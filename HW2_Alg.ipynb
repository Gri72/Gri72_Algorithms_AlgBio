{
 "cells": [
  {
   "cell_type": "markdown",
   "id": "635d08a6-d0e2-4706-9361-1eccad9e79ea",
   "metadata": {},
   "source": [
    "# Домашнее задание 2\n",
    "Выходцев Григорий"
   ]
  },
  {
   "cell_type": "markdown",
   "id": "4e2521a7-1d47-447f-b13d-2540657a4245",
   "metadata": {},
   "source": [
    "## Класс односвязного списка"
   ]
  },
  {
   "cell_type": "code",
   "execution_count": 1,
   "id": "bdd528d1-1562-4f3f-b4db-89874b8997e4",
   "metadata": {},
   "outputs": [],
   "source": [
    "class Node:\n",
    "    def __init__(self, data, nextNode):\n",
    "        self.data = data\n",
    "        self.nextNode = nextNode\n",
    "\n",
    "\n",
    "class List:\n",
    "    def __init__(self, array = None):\n",
    "        self.head = None\n",
    "        if array is not None:\n",
    "            for i in array:\n",
    "                self.append(i)\n",
    "            \n",
    "    \n",
    "    def __len__(self):\n",
    "        length = 0 \n",
    "        current = self.head\n",
    "        while current is not None:\n",
    "            length += 1\n",
    "            current = current.nextNode\n",
    "        return length\n",
    "            \n",
    "\n",
    "    def append(self, data):\n",
    "        if self.head is None:\n",
    "            self.head = Node(data, None)\n",
    "        else:\n",
    "            curNode = self.head\n",
    "            while curNode.nextNode is not None:\n",
    "                curNode = curNode.nextNode\n",
    "            curNode.nextNode = Node(data, None)\n",
    "    \n",
    "    def repr(self):\n",
    "        curNode = self.head\n",
    "        while curNode is not None:\n",
    "            print(curNode.data)\n",
    "            curNode = curNode.nextNode\n",
    "\n",
    "    def reprRecursive(self):\n",
    "        self.repr_(self.head)\n",
    "        \n",
    "    def repr_(self, node):\n",
    "        if node is not None:\n",
    "            print(node.data)\n",
    "            return self.repr_(node.nextNode)\n",
    "        \n",
    "    def insert(self, pos, data):\n",
    "        self.insert_(self.head, 1, pos, data)\n",
    "\n",
    "    def insert_(self, node, j, pos, data):\n",
    "        if node is None:\n",
    "            print('out of range')\n",
    "            return\n",
    "        else:\n",
    "            if pos == j:\n",
    "                newNode = Node(data, node.nextNode)\n",
    "                node.nextNode = newNode\n",
    "                return\n",
    "            else:\n",
    "                j += 1\n",
    "                return self.insert_(node.nextNode, j, pos, data)\n",
    "\n",
    "    def delete(self, k):\n",
    "        index = len(self) - k\n",
    "        if index > len(self) or index < 0:\n",
    "            print('out of range')\n",
    "        else:\n",
    "            current = self.head\n",
    "            if index == 0:\n",
    "                self.head = current.nextNode\n",
    "            else:\n",
    "                for i in range(index-1):\n",
    "                    current = current.nextNode\n",
    "                current.nextNode = current.nextNode.nextNode\n",
    "                \n",
    "    def delete1(self, k):\n",
    "        if k <= 0:\n",
    "            return \"k shouldn't be zero or negative\"\n",
    "        \n",
    "        current = self.head\n",
    "        current_k = self.head\n",
    "        \n",
    "        for _ in range(k):\n",
    "            if current_k is not None:\n",
    "                current_k = current_k.nextNode\n",
    "            else:\n",
    "                return 'out of range'\n",
    "            \n",
    "        if current_k is None:\n",
    "            self.head = self.head.nextNode\n",
    "\n",
    "        else:   \n",
    "            while current_k.nextNode is not None:\n",
    "                current_k = current_k.nextNode\n",
    "                current = current.nextNode\n",
    "            current.nextNode = current.nextNode.nextNode\n",
    "            "
   ]
  },
  {
   "cell_type": "markdown",
   "id": "fbb8054d-cd43-4a23-bf5b-3167302d356d",
   "metadata": {},
   "source": [
    "## Задание 1"
   ]
  },
  {
   "cell_type": "markdown",
   "id": "6e0b2a6d-7ccd-479e-bfa6-970687f348b4",
   "metadata": {},
   "source": [
    "Односвязный список состоит из уникальных элементов. \n",
    "\n",
    "Если список зациклен, то выводить значение элемента узла, на который ссылается конец.\n",
    "Если не зациклен, выводить 'no cycle'."
   ]
  },
  {
   "cell_type": "code",
   "execution_count": 2,
   "id": "58f27f81-5561-45ba-902b-b5bb7d27df76",
   "metadata": {},
   "outputs": [],
   "source": [
    "def find_loop(l):\n",
    "    find_dup = False\n",
    "    unique = set()\n",
    "    current = l.head\n",
    "    while not find_dup: # пока мы НЕ нашли дубликат\n",
    "        if current is None:\n",
    "            return 'no cycle'\n",
    "        elif current.data in unique:\n",
    "            find_dup = True\n",
    "        else:\n",
    "            unique.add(current.data)\n",
    "            current = current.nextNode\n",
    "            \n",
    "    return current.data"
   ]
  },
  {
   "cell_type": "code",
   "execution_count": 6,
   "id": "03bb7888-aa25-4de3-ada9-1c023cadb020",
   "metadata": {},
   "outputs": [
    {
     "data": {
      "text/plain": [
       "2"
      ]
     },
     "execution_count": 6,
     "metadata": {},
     "output_type": "execute_result"
    }
   ],
   "source": [
    "l = List([1,2,3,4,5])\n",
    "l.head.nextNode.nextNode.nextNode.nextNode.nextNode = l.head.nextNode\n",
    "find_loop(l)"
   ]
  },
  {
   "cell_type": "code",
   "execution_count": 7,
   "id": "e3c9d116-8b1e-4f9d-ab45-723379c4e300",
   "metadata": {},
   "outputs": [
    {
     "data": {
      "text/plain": [
       "'no cycle'"
      ]
     },
     "execution_count": 7,
     "metadata": {},
     "output_type": "execute_result"
    }
   ],
   "source": [
    "l = List([1,2,3,4,5])\n",
    "find_loop(l)"
   ]
  },
  {
   "cell_type": "markdown",
   "id": "2a22439e-6e7e-4b7c-a2fb-89fc0cd30a8a",
   "metadata": {},
   "source": [
    "## Задание 2"
   ]
  },
  {
   "cell_type": "markdown",
   "id": "63bba950-8a68-4c88-be6e-95b17cd7d0c0",
   "metadata": {},
   "source": [
    "Тоже самое, что и задание 1, но элементы списка могут быть повторяющимися"
   ]
  },
  {
   "cell_type": "code",
   "execution_count": 8,
   "id": "f63b6c5e-6914-4b45-8ecd-aec7c30ffb0d",
   "metadata": {},
   "outputs": [],
   "source": [
    "def find_loop2(l):\n",
    "    find_dup = False\n",
    "    unique = set()\n",
    "    current = l.head\n",
    "    while not find_dup: # пока мы НЕ нашли дубликат\n",
    "        if current is None:\n",
    "            return 'no cycle'\n",
    "        elif current in unique:\n",
    "            find_dup = True\n",
    "        else:\n",
    "            unique.add(current)\n",
    "            current = current.nextNode\n",
    "            \n",
    "    return current.data"
   ]
  },
  {
   "cell_type": "code",
   "execution_count": 10,
   "id": "a5d3fed9-6a57-41c2-a977-97db8bf6b598",
   "metadata": {},
   "outputs": [
    {
     "data": {
      "text/plain": [
       "2"
      ]
     },
     "execution_count": 10,
     "metadata": {},
     "output_type": "execute_result"
    }
   ],
   "source": [
    "l = List([1,2,4,4,4])\n",
    "l.head.nextNode.nextNode.nextNode.nextNode.nextNode = l.head.nextNode\n",
    "find_loop2(l)"
   ]
  },
  {
   "cell_type": "code",
   "execution_count": 11,
   "id": "1dd5a663-5bd6-4ecd-9abc-412907e5a7eb",
   "metadata": {},
   "outputs": [
    {
     "data": {
      "text/plain": [
       "'no cycle'"
      ]
     },
     "execution_count": 11,
     "metadata": {},
     "output_type": "execute_result"
    }
   ],
   "source": [
    "l = List([1,2,4,4,4])\n",
    "find_loop2(l)"
   ]
  }
 ],
 "metadata": {
  "kernelspec": {
   "display_name": "Python 3 (ipykernel)",
   "language": "python",
   "name": "python3"
  },
  "language_info": {
   "codemirror_mode": {
    "name": "ipython",
    "version": 3
   },
   "file_extension": ".py",
   "mimetype": "text/x-python",
   "name": "python",
   "nbconvert_exporter": "python",
   "pygments_lexer": "ipython3",
   "version": "3.9.13"
  }
 },
 "nbformat": 4,
 "nbformat_minor": 5
}
