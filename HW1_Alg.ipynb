{
 "cells": [
  {
   "cell_type": "markdown",
   "id": "c8fa11bf-1abd-42a9-acd9-c8cd8e58c928",
   "metadata": {},
   "source": [
    "# Домашнее задание 1\n",
    "Выходцев Григорий"
   ]
  },
  {
   "cell_type": "markdown",
   "id": "487d3f31-e229-4170-a928-547166e739d7",
   "metadata": {},
   "source": [
    "1. Написать класс, реализиубщий двунаправленный список. Для этого класса реализовать методы добавления элемента в конец, вывода элементов на печать, получение i-го элемента, вставки элемента в i-ую позицию\n",
    "2. Написать класс, реализующий стек (это то, что похоже на стопку книг). Реализовать методы добавления элемента в стек, получения значения последнего элемента, удаления последнего элемента\n",
    "3. Написать класс, реализующий очередь (это то, что похоже на обычную очередь). Реализовать методы добавления элемента в очередь, получения значения первого элемента, удаления первого элемента"
   ]
  },
  {
   "cell_type": "markdown",
   "id": "0b4655df-6d0a-488b-aa96-7bb455bb9791",
   "metadata": {},
   "source": [
    "## Двусвязный список"
   ]
  },
  {
   "cell_type": "code",
   "execution_count": 7,
   "id": "64e81314-a020-42f5-af77-93b6cb7489ba",
   "metadata": {},
   "outputs": [],
   "source": [
    "class Node:\n",
    "    def __init__(self, data, prevNode, nextNode):\n",
    "        self.data = data\n",
    "        self.prevNode = prevNode\n",
    "        self.nextNode = nextNode"
   ]
  },
  {
   "cell_type": "code",
   "execution_count": 338,
   "id": "f6e9b2bc-dc0d-4bd0-bc79-ea6c1667a1f6",
   "metadata": {},
   "outputs": [],
   "source": [
    "class List2:\n",
    "    def __init__(self):\n",
    "        # укзать тип данных в некоторых\n",
    "        self.head = None\n",
    "        self.tail = None\n",
    "        self.size = 0\n",
    "        \n",
    "    def __len__(self):\n",
    "        return self.size\n",
    "            \n",
    "    def append(self, data):\n",
    "        if self.head is None:\n",
    "            self.head = Node(data, None, None)\n",
    "            self.tail = self.head \n",
    "        else:\n",
    "            self.tail = Node(data, self.tail, None)\n",
    "            self.tail.prevNode.nextNode = self.tail\n",
    "        self.size += 1\n",
    "            \n",
    "    def __repr__(self):\n",
    "        l = []\n",
    "        def repr_(node):\n",
    "            if node is not None:\n",
    "                nonlocal l\n",
    "                l.append(node.data)\n",
    "                return repr_(node.nextNode)\n",
    "        repr_(self.head)\n",
    "        return str(l)    \n",
    "                \n",
    "            \n",
    "    def __setitem__(self, index, data):\n",
    "        self._setitem(self.head, 0, index, data)\n",
    "    \n",
    "    def _setitem(self, node, j, index, data):\n",
    "        if node is None:\n",
    "            print('out of range')\n",
    "        else:\n",
    "            if index == j:\n",
    "                node.data = data        \n",
    "                return\n",
    "            else:\n",
    "                j += 1\n",
    "                return self._setitem(node.nextNode, j, index, data)\n",
    "            \n",
    "    def __getitem__(self, index):\n",
    "        node = self._getitem(self.head, 0, index)\n",
    "        if node is not None:\n",
    "            return node.data\n",
    "        \n",
    "    def _getitem(self, node, j, index):\n",
    "        if node is None:\n",
    "            print('out of range')\n",
    "        else:\n",
    "            if index == j:\n",
    "                return node\n",
    "            else:\n",
    "                j += 1\n",
    "                return self._getitem(node.nextNode, j, index)\n",
    "            \n",
    "    def insert(self, index, data):\n",
    "        self._insert(self.head, 0, index, data)\n",
    "    \n",
    "    def _insert(self, node, j, index, data):\n",
    "        if node is None:\n",
    "            print('out of range')\n",
    "        else:\n",
    "            if index == j:\n",
    "                if index == 0:\n",
    "                    newNode = Node(data, None, node)\n",
    "                    node.prevNode = newNode\n",
    "                    self.head = newNode\n",
    "                else:\n",
    "                    newNode = Node(data, node.prevNode, node)\n",
    "                    node.prevNode.nextNode = newNode\n",
    "                    node.prevNode = newNode\n",
    "                self.size += 1\n",
    "            else:\n",
    "                j += 1\n",
    "                return self._insert(node.nextNode, j, index, data)\n",
    "            \n",
    "    def __delitem__(self, index):\n",
    "        self._delitem(self.head, 0, index)\n",
    "        \n",
    "    def _delitem(self, node, j, index):\n",
    "        if node is None:\n",
    "            print('out of range')\n",
    "        else:\n",
    "            if index == j:\n",
    "                if index == 0:\n",
    "                    node.nextNode.prevNode = None\n",
    "                    self.head = node.nextNode\n",
    "                elif node.nextNode is None:\n",
    "                    node.prevNode.nextNode = None\n",
    "                    self.tail = node.prevNode\n",
    "                else:\n",
    "                    node.prevNode.nextNode = node.nextNode\n",
    "                    node.nextNode.prevNode = node.prevNode\n",
    "                del node\n",
    "                self.size -= 1\n",
    "            else:\n",
    "                j += 1\n",
    "                return self._delitem(node.nextNode, j, index) "
   ]
  },
  {
   "cell_type": "code",
   "execution_count": 328,
   "id": "0a832072-438a-4821-be2b-005c10e037ee",
   "metadata": {},
   "outputs": [
    {
     "data": {
      "text/plain": [
       "[6, 7, 8, 9]"
      ]
     },
     "execution_count": 328,
     "metadata": {},
     "output_type": "execute_result"
    }
   ],
   "source": [
    "a = List2()\n",
    "a.append(6)\n",
    "a.append(7)\n",
    "a.append(8)\n",
    "a.append(9)\n",
    "a"
   ]
  },
  {
   "cell_type": "code",
   "execution_count": 332,
   "id": "2406dd68-b057-4232-80b7-3dbf91a48837",
   "metadata": {},
   "outputs": [
    {
     "data": {
      "text/plain": [
       "[6, 7, 8, 9]"
      ]
     },
     "execution_count": 332,
     "metadata": {},
     "output_type": "execute_result"
    }
   ],
   "source": [
    "a"
   ]
  },
  {
   "cell_type": "code",
   "execution_count": 285,
   "id": "837e18ad-f6f7-4f51-8df5-d3d326ba1f24",
   "metadata": {},
   "outputs": [
    {
     "data": {
      "text/plain": [
       "9"
      ]
     },
     "execution_count": 285,
     "metadata": {},
     "output_type": "execute_result"
    }
   ],
   "source": [
    "a[3]"
   ]
  },
  {
   "cell_type": "code",
   "execution_count": 316,
   "id": "43fd1833-8048-4e8d-aa25-9f3b1ee55976",
   "metadata": {},
   "outputs": [
    {
     "data": {
      "text/plain": [
       "[6, 2, 7, 8, 9]"
      ]
     },
     "execution_count": 316,
     "metadata": {},
     "output_type": "execute_result"
    }
   ],
   "source": [
    "a.insert(1,2)\n",
    "a"
   ]
  },
  {
   "cell_type": "code",
   "execution_count": 283,
   "id": "6bfb3e1a-9e89-4206-8baf-70f0f8574da0",
   "metadata": {},
   "outputs": [
    {
     "data": {
      "text/plain": [
       "[6, 3, 7, 8, 9]"
      ]
     },
     "execution_count": 283,
     "metadata": {},
     "output_type": "execute_result"
    }
   ],
   "source": [
    "a[1] = 3\n",
    "a"
   ]
  },
  {
   "cell_type": "code",
   "execution_count": 318,
   "id": "d61a2c33-5981-41eb-a438-65aea09b6778",
   "metadata": {},
   "outputs": [
    {
     "data": {
      "text/plain": [
       "[6, 7, 8, 9]"
      ]
     },
     "execution_count": 318,
     "metadata": {},
     "output_type": "execute_result"
    }
   ],
   "source": [
    "del a[1]\n",
    "a"
   ]
  },
  {
   "cell_type": "markdown",
   "id": "7bfa5c19-a7db-4c6f-9eef-27c9a6ed3b2d",
   "metadata": {},
   "source": [
    "## Стек"
   ]
  },
  {
   "cell_type": "code",
   "execution_count": 320,
   "id": "4170d205-7311-4b1f-b78e-fedf6f361cb8",
   "metadata": {},
   "outputs": [],
   "source": [
    "class Stack:\n",
    "    def __init__(self):\n",
    "        self.stack = List2() \n",
    "    \n",
    "    def append(self, data):\n",
    "        if self.stack.head is None:\n",
    "            self.stack.append(data)\n",
    "        else:\n",
    "            self.stack.insert(0, data)\n",
    "    \n",
    "    def top(self):\n",
    "        return self.stack.head.data\n",
    "    \n",
    "    def del_top(self):\n",
    "        del self.stack[0]\n",
    "    \n",
    "    def __repr__(self):\n",
    "        return str(self.stack)\n",
    "        "
   ]
  },
  {
   "cell_type": "code",
   "execution_count": 321,
   "id": "212b1d9f-be29-4398-a426-89d0fc72b8cb",
   "metadata": {},
   "outputs": [],
   "source": [
    "a = Stack()"
   ]
  },
  {
   "cell_type": "code",
   "execution_count": 322,
   "id": "895e0cc5-9d00-4cf2-8388-5db2f812c732",
   "metadata": {},
   "outputs": [],
   "source": [
    "a.append(1)\n",
    "a.append(2)\n",
    "a.append(3)\n",
    "a.append(4)"
   ]
  },
  {
   "cell_type": "code",
   "execution_count": 323,
   "id": "c90409ca-864d-4390-96b1-ed84b873bc37",
   "metadata": {},
   "outputs": [
    {
     "data": {
      "text/plain": [
       "4"
      ]
     },
     "execution_count": 323,
     "metadata": {},
     "output_type": "execute_result"
    }
   ],
   "source": [
    "a.top()"
   ]
  },
  {
   "cell_type": "code",
   "execution_count": 324,
   "id": "d17e14e7-8432-4ad0-9082-12eea9816e08",
   "metadata": {},
   "outputs": [
    {
     "data": {
      "text/plain": [
       "[3, 2, 1]"
      ]
     },
     "execution_count": 324,
     "metadata": {},
     "output_type": "execute_result"
    }
   ],
   "source": [
    "a.del_top()\n",
    "a"
   ]
  },
  {
   "cell_type": "markdown",
   "id": "04b8a704-1fc1-4ba9-9a9a-c5cdaa2bdf8c",
   "metadata": {},
   "source": [
    "## Очередь"
   ]
  },
  {
   "cell_type": "code",
   "execution_count": 348,
   "id": "a3d3da77-32ba-472c-bc89-ed4e0102729c",
   "metadata": {},
   "outputs": [],
   "source": [
    "class Queue:\n",
    "    def __init__(self):\n",
    "        self.queue = List2()\n",
    "        \n",
    "    def append(self, data):\n",
    "        if self.queue.head is None:\n",
    "            self.queue.append(data)\n",
    "        else:\n",
    "            self.queue.insert(0, data)\n",
    "        \n",
    "    def end(self):\n",
    "        return self.queue[len(self.queue)-1]\n",
    "    \n",
    "    def del_end(self):\n",
    "        del self.queue[len(self.queue) -1]\n",
    "    \n",
    "    def __repr__(self):\n",
    "        return str(self.queue)"
   ]
  },
  {
   "cell_type": "code",
   "execution_count": 354,
   "id": "681d6134-c6f0-4e6f-ac12-7fda85ee8c5a",
   "metadata": {},
   "outputs": [
    {
     "data": {
      "text/plain": [
       "[4, 3, 2, 1]"
      ]
     },
     "execution_count": 354,
     "metadata": {},
     "output_type": "execute_result"
    }
   ],
   "source": [
    "a = Queue()\n",
    "a.append(1)\n",
    "a.append(2)\n",
    "a.append(3)\n",
    "a.append(4)\n",
    "a"
   ]
  },
  {
   "cell_type": "code",
   "execution_count": 355,
   "id": "b9662fbc-dc1f-4115-8c5f-1df0e50bf844",
   "metadata": {},
   "outputs": [
    {
     "data": {
      "text/plain": [
       "1"
      ]
     },
     "execution_count": 355,
     "metadata": {},
     "output_type": "execute_result"
    }
   ],
   "source": [
    "a.end()"
   ]
  },
  {
   "cell_type": "code",
   "execution_count": 356,
   "id": "28881ca1-568c-49e6-9fcc-08484aa81cf8",
   "metadata": {},
   "outputs": [
    {
     "data": {
      "text/plain": [
       "[4, 3, 2]"
      ]
     },
     "execution_count": 356,
     "metadata": {},
     "output_type": "execute_result"
    }
   ],
   "source": [
    "a.del_end()\n",
    "a"
   ]
  }
 ],
 "metadata": {
  "kernelspec": {
   "display_name": "Python 3 (ipykernel)",
   "language": "python",
   "name": "python3"
  },
  "language_info": {
   "codemirror_mode": {
    "name": "ipython",
    "version": 3
   },
   "file_extension": ".py",
   "mimetype": "text/x-python",
   "name": "python",
   "nbconvert_exporter": "python",
   "pygments_lexer": "ipython3",
   "version": "3.9.13"
  }
 },
 "nbformat": 4,
 "nbformat_minor": 5
}
